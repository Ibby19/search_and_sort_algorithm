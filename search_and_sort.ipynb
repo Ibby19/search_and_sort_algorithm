{
 "cells": [
  {
   "cell_type": "markdown",
   "metadata": {},
   "source": [
    "# Search and Sort Techniques\n",
    "\n",
    "### Searching and sorting are the basic operations and algorithms of computer science.\n",
    "\n",
    "- Searching entails looking for a specific value in a set of values\n",
    "\n",
    "- Sorting entails rearranging a set of values in ascending or descending order"
   ]
  },
  {
   "cell_type": "markdown",
   "metadata": {},
   "source": [
    "## Binary Search\n",
    "\n",
    "### What is binary search\n",
    "- Binary search is a search algorithm that searches a sorted list to find a target value."
   ]
  },
  {
   "cell_type": "markdown",
   "metadata": {},
   "source": [
    "## Use the following sorted list of words to perform a binary search:\n",
    "\n",
    "- list = ['babka','baklava','cheesecake','cupcake','danish','eclair','funnelcake','kringle','lamington','profiterole','sopaipilla','strudel','tiramisu','torte','turnover']"
   ]
  },
  {
   "cell_type": "code",
   "execution_count": 1,
   "metadata": {},
   "outputs": [
    {
     "name": "stdout",
     "output_type": "stream",
     "text": [
      "Not in list\n",
      "12\n"
     ]
    }
   ],
   "source": [
    "# Binary search\n",
    "\n",
    "def bsearch(list, val):\n",
    "\n",
    "    list_size = len(list) - 1\n",
    "\n",
    "    idx0 = 0\n",
    "    idxn = list_size\n",
    "# Find the middle most value\n",
    "\n",
    "    while idx0 <= idxn:\n",
    "        midval = (idx0 + idxn)// 2\n",
    "\n",
    "        if list[midval] == val:\n",
    "            return midval\n",
    "\n",
    "# Compare the value the middle most value\n",
    "        if val > list[midval]:\n",
    "            idx0 = midval + 1\n",
    "        else:\n",
    "            idxn = midval - 1\n",
    "\n",
    "    if idx0 > idxn:\n",
    "        return \"Not in list\"\n",
    "# Initialize the sorted list\n",
    "string_list = ['babka','baklava','cheesecake','cupcake','danish','eclair',\n",
    "         'funnelcake','kringle','lamington','profiterole','sopaipilla','strudel','tiramisu','torte','turnover']\n",
    "\n",
    "# Print the search result\n",
    "print(bsearch(string_list,'doughnut')) #should return Not in list because doughnut isn't in the list\n",
    "print(bsearch(string_list,'tiramisu')) #should return index 12"
   ]
  },
  {
   "cell_type": "markdown",
   "metadata": {},
   "source": [
    "### a)  What sequence of 'middle' values are compared to the target when performing a binary search with target doughnut?\n",
    "\n",
    "- The binary search starts from kringle which is the middle value.\n",
    "- kringle isn't the item that it is looking for so binary search eliminates the right half of the list because it is looking for doughnut.\n",
    "- Binary search then goes to cupcake because it is the middle value of the new list.\n",
    "- Cupcake isn't the value that I am looking for so binary search eliminates the values in the list that are to the left.\n",
    "\n",
    "### b)  What sequence of 'middle' values are compared to the target when performing a binary search with target tiramisu?\n",
    "\n",
    "- The binary search starts from kringle which is the middle value.\n",
    "- kringle isn't the item that I am looking for so binary search eliminates the left half of the list because I am looking for tiramisu.\n",
    "- Binary search then goes to strudel because it is the middle value of the new list.\n",
    "- Strudel isn't the value that I am looking for so binary search eliminates the values in the list that are to the left.\n",
    "- The binary search function then goes to torte which again isn't the desired value so it eliminates the value to the right and finds tiramisu."
   ]
  },
  {
   "cell_type": "markdown",
   "metadata": {},
   "source": [
    "## Bubble sort & Selection Sort\n",
    "\n",
    "### What is bubble sort\n",
    "- Bubble sort passes through a list multiple times, it compares adjacent items and exchanges those that are out of order. During each pass through the list it places the next largest value in its proper place.\n",
    "\n",
    "### What is selection sort\n",
    "- Selection sort is an improvement on bubble sort. The selection sort algorithm makes only one exchange for every pass through the list. It looks for the largest value as it makes a pass and after completing the pass it places the value in its proper location."
   ]
  },
  {
   "cell_type": "markdown",
   "metadata": {},
   "source": [
    "### For the list below, a) show the series of steps taken by the Bubble Sort algorithm while sorting this list. \n",
    "\n",
    "\n",
    "### list = [9, 20, 6, 10, 14, 8, 60, 11]\n",
    " \n",
    "- 9 and 20 stay where they are [9, 20, 6, 10, 14, 8, 60, 11]\n",
    "- 20 and 6 swap because 20 > 6 [9, 6, 20, 10, 14, 8, 60, 11]\n",
    "- 20 and 10 swap because 20 > 10 [9, 6, 10, 20, 14, 8, 60, 11]\n",
    "- 20 and 14 swap because 20 > 14 [9, 6, 10, 14, 20, 8, 60, 11]\n",
    "- 20 and 8 swap because 20 > 8 [9, 6, 10, 14, 8, 20, 60, 11]\n",
    "- 20 then stops moving because 60 > 20 [9, 6, 10, 14, 8, 20, 60, 11]\n",
    "- 60 and 11 swap because 60 > 11 [9, 6, 10, 14, 8, 20, 11, 60]\n",
    "- This is the first pass and 60 is in place"
   ]
  },
  {
   "cell_type": "code",
   "execution_count": 2,
   "metadata": {},
   "outputs": [
    {
     "name": "stdout",
     "output_type": "stream",
     "text": [
      "[6, 8, 9, 10, 11, 14, 20, 60]\n"
     ]
    }
   ],
   "source": [
    "# Bubble sort\n",
    "\n",
    "def bubblesort(list):\n",
    "\n",
    "# Swap the elements to arrange in order\n",
    "    for iter_num in range(len(list)-1,0,-1): #scan through ever-shortening list\n",
    "        for idx in range(iter_num):     #for each item in list,\n",
    "            if list[idx]>list[idx+1]:   #check it against its neighbour\n",
    "                temp = list[idx]        #and swap if item on left is bigger\n",
    "                list[idx] = list[idx+1]\n",
    "                list[idx+1] = temp\n",
    "\n",
    "    return list\n",
    "\n",
    "unsorted_list = [9, 20, 6, 10, 14, 8, 60, 11]\n",
    "\n",
    "print(bubblesort(unsorted_list))\n"
   ]
  },
  {
   "cell_type": "markdown",
   "metadata": {},
   "source": [
    "### b) show the series of steps taken by the Selection Sort algorithm while sorting this list.\n",
    "\n",
    "- [9, 20, 6, 10, 14, 8, 60, 11]\n",
    "- [9, 20, 6, 10, 14, 8, 11, 60]\n",
    "- [9, 11, 6, 10, 14, 8, 20, 60]\n",
    "- [9, 11, 6, 10, 8, 14, 20, 60]\n",
    "- [9, 8, 6, 10, 11, 14, 20, 60]\n",
    "- [6, 8, 9, 10, 11, 14, 20, 60]"
   ]
  },
  {
   "cell_type": "code",
   "execution_count": 3,
   "metadata": {},
   "outputs": [
    {
     "name": "stdout",
     "output_type": "stream",
     "text": [
      "[6, 8, 9, 10, 11, 14, 20, 60]\n"
     ]
    }
   ],
   "source": [
    "# Selection sort\n",
    "\n",
    "def selection_sort(input_list):\n",
    "\n",
    "    for idx in range(len(input_list)):\n",
    "\n",
    "        min_idx = idx\n",
    "        for j in range( idx +1, len(input_list)):\n",
    "            if input_list[min_idx] > input_list[j]:\n",
    "                min_idx = j\n",
    "# Swap the minimum value with the compared value\n",
    "\n",
    "        input_list[idx], input_list[min_idx] = input_list[min_idx], input_list[idx]\n",
    "\n",
    "    return input_list\n",
    "\n",
    "list_1 = [9, 20, 6, 10, 14, 8, 60, 11]\n",
    "\n",
    "print(selection_sort(list_1))"
   ]
  },
  {
   "cell_type": "markdown",
   "metadata": {},
   "source": [
    "### The three search algorithms have varying run times, with the unsorted sequential search being the least efficient and the binary search being the most efficient (among the three).\n",
    "\n",
    "### a) Modify the code for the seq_search.py (for unsorted lists), seq_search_ordered.py and binary_search.py to count the number of elements checked during the search. "
   ]
  },
  {
   "cell_type": "code",
   "execution_count": 5,
   "metadata": {},
   "outputs": [
    {
     "name": "stdout",
     "output_type": "stream",
     "text": [
      "(True, 4)\n",
      "(False, 7)\n"
     ]
    }
   ],
   "source": [
    "#sequential search\n",
    "\n",
    "def linear_search(values, search_for):\n",
    "    search_at = 0\n",
    "    search_res = False\n",
    "    count_linear = 0\n",
    "\n",
    "# Match the value with each data element\n",
    "    while search_at < len(values) and search_res is False:\n",
    "        if values[search_at] == search_for:\n",
    "            search_res = True \n",
    "            count_linear += 1\n",
    "        else:\n",
    "            search_at = search_at + 1\n",
    "            count_linear += 1\n",
    "\n",
    "    return search_res, count_linear\n",
    "\n",
    "list_2 = [64, 34, 25, 12, 22, 11, 90]\n",
    "print(linear_search(list_2, 12)) #should return True. The second value is the count of elements checked during the search\n",
    "print(linear_search(list_2, 91)) #should return False. The second value is the count of elements checked during the search"
   ]
  },
  {
   "cell_type": "code",
   "execution_count": 7,
   "metadata": {},
   "outputs": [
    {
     "name": "stdout",
     "output_type": "stream",
     "text": [
      "(False, 4)\n",
      "(True, 5)\n",
      "(True, 4)\n"
     ]
    }
   ],
   "source": [
    "# Sequential search ordered\n",
    "\n",
    "def orderedSequentialSearch(alist, item):\n",
    "    pos = 0\n",
    "    found = False\n",
    "    stop = False\n",
    "    count_oss = 0\n",
    "\n",
    "    while pos < len(alist) and not found and not stop:\n",
    "        if alist[pos] == item:\n",
    "            found = True\n",
    "            count_oss += 1\n",
    "        else:\n",
    "            if alist[pos] > item:\n",
    "                stop = True\n",
    "                count_oss += 1\n",
    "            else:\n",
    "                pos = pos+1\n",
    "                count_oss += 1\n",
    "\n",
    "    return found, count_oss\n",
    "\n",
    "testlist = [0, 1, 2, 8, 13, 17, 19, 32, 42,]\n",
    "print(orderedSequentialSearch(testlist, 3)) #return False. The second value is the count of elements checked during the search\n",
    "print(orderedSequentialSearch(testlist, 13)) #return True. The second value is the count of elements checked during the search\n",
    "print(orderedSequentialSearch(testlist, 8)) #return True. The second value is the count of elements checked during the search"
   ]
  },
  {
   "cell_type": "code",
   "execution_count": 3,
   "metadata": {},
   "outputs": [
    {
     "name": "stdout",
     "output_type": "stream",
     "text": [
      "(5, 3)\n",
      "('Not in list', 3)\n"
     ]
    }
   ],
   "source": [
    "# Binary search\n",
    "\n",
    "def bsearch(list, val):\n",
    "\n",
    "    list_size = len(list) - 1\n",
    "\n",
    "    idx0 = 0\n",
    "    idxn = list_size\n",
    "    count_bsearch = 0\n",
    "# Find the middle most value\n",
    "\n",
    "    while idx0 <= idxn:\n",
    "        midval = (idx0 + idxn)// 2\n",
    "        count_bsearch += 1\n",
    "\n",
    "        if list[midval] == val:\n",
    "            return midval, count_bsearch\n",
    "\n",
    "# Compare the value the middle most value\n",
    "        if val > list[midval]:\n",
    "            idx0 = midval + 1\n",
    "            \n",
    "        else:\n",
    "            idxn = midval - 1\n",
    "\n",
    "    if idx0 > idxn:\n",
    "        return \"Not in list\", count_bsearch\n",
    "    \n",
    "# Initialize the sorted list\n",
    "nums_list = [2,7,19,34,53,72]\n",
    "# Print the search result\n",
    "print(bsearch(nums_list,72))  \n",
    "print(bsearch(nums_list,11)) "
   ]
  },
  {
   "cell_type": "markdown",
   "metadata": {},
   "source": [
    "### b) Using your instrumented code for the three search algorithms, perform the following searches, and report the number of elements checked by each algorithm for each search (i.e. you will report nine results in total - for each of the 3 searches below, you will report the results from the 3 different search algorithms).\n",
    "\n",
    "- i. Search for the value 9 in the following array: A = [6, 19, -3, 5, 12, 7, 21, -8, 25, 10, 0, 28, -6, 1, 33, 18, 9, 2, -13, 43]\n",
    "\n",
    "- ii.  Search for the value 11 in the following array: A = [6, 19, -3, 5, 12, 7, 21, -8, 25, 10, 0, 28, -6, 1, 33, 18, 9, 2, -13, 43]\n",
    "\n",
    "- iii. Search for the value 11 in the following array: A = [6, 19, -3, 5, 12, 7, 21, -8, 25, 10, 0, 28, -6, 1, 33, 18, 9, 2, -13, 43, -15, 4, 22, 38, -5, 13, 23, -11, 29, -20, 41, 31, -23, 35, 40, 14, 8, -18, 16, 36]"
   ]
  },
  {
   "cell_type": "markdown",
   "metadata": {},
   "source": [
    "## sequential search"
   ]
  },
  {
   "cell_type": "code",
   "execution_count": 6,
   "metadata": {},
   "outputs": [
    {
     "name": "stdout",
     "output_type": "stream",
     "text": [
      "(True, 17)\n",
      "(False, 20)\n",
      "(False, 40)\n"
     ]
    }
   ],
   "source": [
    "#sequential search\n",
    "\n",
    "list_A1 = [6, 19, -3, 5, 12, 7, 21, -8, 25, 10, 0, 28, -6, 1, 33, 18, 9, 2, -13, 43]\n",
    "\n",
    "list_A2 = [6, 19, -3, 5, 12, 7, 21, -8, 25, 10, 0, 28, -6, 1, 33, 18, 9, 2, -13, 43, -15, 4, 22, 38, -5, 13, 23, -11, 29, -20, 41, 31, -23, 35, 40, 14, 8, -18, 16, 36]\n",
    "\n",
    "print(linear_search(list_A1, 9)) #should return True. The second value is the count of elements checked during the search\n",
    "print(linear_search(list_A1, 11)) #should return False. The second value is the count of elements checked during the search\n",
    "print(linear_search(list_A2, 11)) #should return False. The second value is the count of elements checked during the search"
   ]
  },
  {
   "cell_type": "markdown",
   "metadata": {},
   "source": [
    "## Sequential search ordered\n",
    "\n",
    "### This search will not yield any results. The list needs to be ordered for this search algorithm to work."
   ]
  },
  {
   "cell_type": "code",
   "execution_count": 8,
   "metadata": {},
   "outputs": [
    {
     "name": "stdout",
     "output_type": "stream",
     "text": [
      "(False, 2)\n",
      "(False, 2)\n",
      "(False, 2)\n"
     ]
    }
   ],
   "source": [
    "# Sequential search ordered\n",
    "\n",
    "testlist_A1 = [6, 19, -3, 5, 12, 7, 21, -8, 25, 10, 0, 28, -6, 1, 33, 18, 9, 2, -13, 43]\n",
    "\n",
    "testlist_A2 = [6, 19, -3, 5, 12, 7, 21, -8, 25, 10, 0, 28, -6, 1, 33, 18, 9, 2, -13, 43, -15, 4, 22, 38, -5, 13, 23, -11, 29, -20, 41, 31, -23, 35, 40, 14, 8, -18, 16, 36]\n",
    "\n",
    "print(orderedSequentialSearch(testlist_A1, 9)) #return False\n",
    "print(orderedSequentialSearch(testlist_A1, 11)) #return False\n",
    "print(orderedSequentialSearch(testlist_A2, 11)) #return False"
   ]
  },
  {
   "cell_type": "markdown",
   "metadata": {},
   "source": [
    "## Binary Search\n",
    "\n",
    "### Binary search only works on sorted arrays so this search algorithm won't work on the list provided"
   ]
  },
  {
   "cell_type": "code",
   "execution_count": 9,
   "metadata": {},
   "outputs": [
    {
     "name": "stdout",
     "output_type": "stream",
     "text": [
      "('Not in list', 4)\n",
      "('Not in list', 4)\n",
      "('Not in list', 5)\n"
     ]
    }
   ],
   "source": [
    "# Binary search\n",
    "\n",
    "list_B1 = [6, 19, -3, 5, 12, 7, 21, -8, 25, 10, 0, 28, -6, 1, 33, 18, 9, 2, -13, 43]\n",
    "\n",
    "list_B2 = [6, 19, -3, 5, 12, 7, 21, -8, 25, 10, 0, 28, -6, 1, 33, 18, 9, 2, -13, 43, -15, 4, 22, 38, -5, 13, 23, -11, 29, -20, 41, 31, -23, 35, 40, 14, 8, -18, 16, 36]\n",
    "\n",
    "# Print the search result\n",
    "print(bsearch(list_B1, 9)) \n",
    "print(bsearch(list_B1,11)) \n",
    "print(bsearch(list_B2,11)) "
   ]
  },
  {
   "cell_type": "markdown",
   "metadata": {},
   "source": [
    "### Using a random number generator, create a list of 50 integers and a list of 1000 integers. Perform a benchmark analysis using merge sort, quick sort, bubble sort and selection sort (algorithm are given) on each of the lists. For each list, what is the difference in execution speed between the different sorting techniques?"
   ]
  },
  {
   "cell_type": "markdown",
   "metadata": {},
   "source": [
    "## What is merge sort\n",
    "\n",
    "- Merge sort is a recursive algorithm that continually splits a list in half. If the list is empty or has one item it is sorted by definition. If the list has more than one item, we split the list and recursively invoke a merge sort on both halves.\n",
    "\n",
    "## What is quick sort\n",
    "\n",
    "- Quick sort has the same advantages as the merge sort but doesn't use additional storage. Quick sort first selects a value which is called the pivot value. The role of the pivot value is to assist with splitting the list. The split point is the actual position where the pivot values belongs in the final sorted list. The split point is used to divide the list for subsequent calls to the quick sort."
   ]
  },
  {
   "cell_type": "code",
   "execution_count": 10,
   "metadata": {},
   "outputs": [],
   "source": [
    "# Merge sort\n",
    "from datetime import datetime\n",
    "\n",
    "def merge_sort(unsorted_list):\n",
    "    if len(unsorted_list) <= 1:\n",
    "        return unsorted_list\n",
    "# Find the middle point and divide it\n",
    "    middle = len(unsorted_list) // 2\n",
    "    left_list = unsorted_list[:middle]\n",
    "    right_list = unsorted_list[middle:]\n",
    "\n",
    "    left_list = merge_sort(left_list)\n",
    "    right_list = merge_sort(right_list)\n",
    "    return list(merge(left_list, right_list))\n",
    "\n",
    "# Merge the sorted halves\n",
    "\n",
    "def merge(left_half,right_half):\n",
    "\n",
    "    res = []\n",
    "    while len(left_half) != 0 and len(right_half) != 0:\n",
    "        if left_half[0] < right_half[0]:\n",
    "            res.append(left_half[0])\n",
    "            left_half.remove(left_half[0])\n",
    "        else:\n",
    "            res.append(right_half[0])\n",
    "            right_half.remove(right_half[0])\n",
    "    if len(left_half) == 0:\n",
    "        res = res + right_half\n",
    "    else:\n",
    "        res = res + left_half\n",
    "    return res"
   ]
  },
  {
   "cell_type": "code",
   "execution_count": 40,
   "metadata": {},
   "outputs": [
    {
     "name": "stdout",
     "output_type": "stream",
     "text": [
      "Time to sort 50 floats with mergesort : 0.027995 seconds\n",
      "Time to sort 1000 floats with mergesort : 0.430593 seconds\n"
     ]
    }
   ],
   "source": [
    "import random\n",
    "import timeit\n",
    "\n",
    "rand_nums_50_test = [random.randrange(50) for _ in range(1000)]\n",
    "rand_nums_1000_test = [random.randrange(1000) for _ in range(10000)]\n",
    "\n",
    "ms_50 = timeit.Timer(lambda: merge_sort(rand_nums_50_test)).timeit(number=1)\n",
    "ms_1000 = timeit.Timer(lambda: merge_sort(rand_nums_1000_test)).timeit(number=1)\n",
    "\n",
    "print('Time to sort 50 floats with merge sort : %f seconds' % ms_50)\n",
    "print('Time to sort 1000 floats with merge sort : %f seconds' % ms_1000)"
   ]
  },
  {
   "cell_type": "markdown",
   "metadata": {},
   "source": [
    "## Quick sort"
   ]
  },
  {
   "cell_type": "code",
   "execution_count": 11,
   "metadata": {},
   "outputs": [],
   "source": [
    "# Quick sort\n",
    "# https://www.codementor.io/garethdwyer/quicksort-tutorial-python-implementation-with-line-by-line-explanation-p9h7jd3r6\n",
    "\n",
    "def partition(xs, start, end):\n",
    "    follower = leader = start\n",
    "    while leader < end:\n",
    "        if xs[leader] <= xs[end]:\n",
    "            xs[follower], xs[leader] = xs[leader], xs[follower]\n",
    "            follower += 1\n",
    "        leader += 1\n",
    "    xs[follower], xs[end] = xs[end], xs[follower]\n",
    "    return follower\n",
    "\n",
    "def _quicksort(xs, start, end):\n",
    "    if start >= end:\n",
    "        return\n",
    "    p = partition(xs, start, end)\n",
    "    _quicksort(xs, start, p-1)\n",
    "    _quicksort(xs, p+1, end)\n",
    "    \n",
    "def quicksort(xs):\n",
    "    _quicksort(xs, 0, len(xs)-1)"
   ]
  },
  {
   "cell_type": "code",
   "execution_count": 12,
   "metadata": {},
   "outputs": [
    {
     "name": "stdout",
     "output_type": "stream",
     "text": [
      "Time to sort 50 floats with mergesort : 0.007107 seconds\n",
      "Time to sort 1000 floats with mergesort : 0.086901 seconds\n"
     ]
    }
   ],
   "source": [
    "import random\n",
    "import timeit\n",
    "\n",
    "rand_nums_50_test = [random.randrange(50) for _ in range(1000)]\n",
    "rand_nums_1000_test = [random.randrange(1000) for _ in range(10000)]\n",
    "\n",
    "ms_50 = timeit.Timer(lambda: quicksort(rand_nums_50_test)).timeit(number=1)\n",
    "ms_1000 = timeit.Timer(lambda: quicksort(rand_nums_1000_test)).timeit(number=1)\n",
    "\n",
    "print('Time to sort 50 floats with quick sort : %f seconds' % ms_50)\n",
    "print('Time to sort 1000 floats with quick sort : %f seconds' % ms_1000)"
   ]
  },
  {
   "cell_type": "markdown",
   "metadata": {},
   "source": [
    "## Bubble sort"
   ]
  },
  {
   "cell_type": "code",
   "execution_count": 13,
   "metadata": {},
   "outputs": [],
   "source": [
    "# Bubble sort\n",
    "\n",
    "def bubblesort(list):\n",
    "\n",
    "# Swap the elements to arrange in order\n",
    "    for iter_num in range(len(list)-1,0,-1): #scan through ever-shortening list\n",
    "        for idx in range(iter_num):     #for each item in list,\n",
    "            if list[idx]>list[idx+1]:   #check it against its neighbour\n",
    "                temp = list[idx]        #and swap if item on left is bigger\n",
    "                list[idx] = list[idx+1]\n",
    "                list[idx+1] = temp\n",
    "\n",
    "    return list"
   ]
  },
  {
   "cell_type": "code",
   "execution_count": 14,
   "metadata": {},
   "outputs": [
    {
     "name": "stdout",
     "output_type": "stream",
     "text": [
      "Time to sort 50 floats with bubble sort : 0.105669 seconds\n",
      "Time to sort 1000 floats with bubble sort : 9.289331 seconds\n"
     ]
    }
   ],
   "source": [
    "import random\n",
    "import timeit\n",
    "\n",
    "rand_nums_50_test = [random.randrange(50) for _ in range(1000)]\n",
    "rand_nums_1000_test = [random.randrange(1000) for _ in range(10000)]\n",
    "\n",
    "ms_50 = timeit.Timer(lambda: bubblesort(rand_nums_50_test)).timeit(number=1)\n",
    "ms_1000 = timeit.Timer(lambda: bubblesort(rand_nums_1000_test)).timeit(number=1)\n",
    "\n",
    "print('Time to sort 50 floats with bubble sort : %f seconds' % ms_50)\n",
    "print('Time to sort 1000 floats with bubble sort : %f seconds' % ms_1000)"
   ]
  },
  {
   "cell_type": "markdown",
   "metadata": {},
   "source": [
    "## Selection sort"
   ]
  },
  {
   "cell_type": "code",
   "execution_count": 15,
   "metadata": {},
   "outputs": [],
   "source": [
    "# Selection sort\n",
    "\n",
    "def selection_sort(input_list):\n",
    "\n",
    "    for idx in range(len(input_list)):\n",
    "\n",
    "        min_idx = idx\n",
    "        for j in range( idx +1, len(input_list)):\n",
    "            if input_list[min_idx] > input_list[j]:\n",
    "                min_idx = j\n",
    "# Swap the minimum value with the compared value\n",
    "\n",
    "        input_list[idx], input_list[min_idx] = input_list[min_idx], input_list[idx]\n",
    "\n",
    "    return input_list"
   ]
  },
  {
   "cell_type": "code",
   "execution_count": 16,
   "metadata": {},
   "outputs": [
    {
     "name": "stdout",
     "output_type": "stream",
     "text": [
      "Time to sort 50 floats with bubble sort : 0.054528 seconds\n",
      "Time to sort 1000 floats with bubble sort : 3.960916 seconds\n"
     ]
    }
   ],
   "source": [
    "import random\n",
    "import timeit\n",
    "\n",
    "rand_nums_50_test = [random.randrange(50) for _ in range(1000)]\n",
    "rand_nums_1000_test = [random.randrange(1000) for _ in range(10000)]\n",
    "\n",
    "ms_50 = timeit.Timer(lambda: selection_sort(rand_nums_50_test)).timeit(number=1)\n",
    "ms_1000 = timeit.Timer(lambda: selection_sort(rand_nums_1000_test)).timeit(number=1)\n",
    "\n",
    "print('Time to sort 50 floats with selection sort : %f seconds' % ms_50)\n",
    "print('Time to sort 1000 floats with selection sort : %f seconds' % ms_1000)"
   ]
  },
  {
   "cell_type": "markdown",
   "metadata": {},
   "source": [
    "# Conclusion\n",
    "\n",
    "- The fastest algorithm for a range of 50 random numbers is quick sort followed by merge sort then selection sort and the slowest algorithm is bubble sort.\n",
    "\n",
    "- The fastest algorithm for a range of 1000 random numbers is quick sort, followed by selection sort then merge sort and the slowest algorithm is bubble sort."
   ]
  }
 ],
 "metadata": {
  "kernelspec": {
   "display_name": "Python 3",
   "language": "python",
   "name": "python3"
  },
  "language_info": {
   "codemirror_mode": {
    "name": "ipython",
    "version": 3
   },
   "file_extension": ".py",
   "mimetype": "text/x-python",
   "name": "python",
   "nbconvert_exporter": "python",
   "pygments_lexer": "ipython3",
   "version": "3.7.3"
  }
 },
 "nbformat": 4,
 "nbformat_minor": 2
}
