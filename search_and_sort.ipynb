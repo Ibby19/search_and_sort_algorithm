{
 "cells": [
  {
   "cell_type": "markdown",
   "metadata": {},
   "source": [
    "# Search and Sort Techniques"
   ]
  },
  {
   "cell_type": "markdown",
   "metadata": {},
   "source": [
    "## Binary Search\n",
    "\n",
    "### What is binary search\n",
    "#### Binary search is a search algorithm that searches a sorted list to find a target value."
   ]
  },
  {
   "cell_type": "markdown",
   "metadata": {},
   "source": [
    "### Use the following sorted list of words to perform a binary search:\n",
    "\n",
    "### list = ['babka','baklava','cheesecake','cupcake','danish','eclair','funnelcake','kringle','lamington','profiterole','sopaipilla','strudel','tiramisu','torte','turnover']"
   ]
  },
  {
   "cell_type": "code",
   "execution_count": 23,
   "metadata": {},
   "outputs": [
    {
     "name": "stdout",
     "output_type": "stream",
     "text": [
      "Not in list\n",
      "12\n"
     ]
    }
   ],
   "source": [
    "# Binary search\n",
    "import timeit\n",
    "\n",
    "def bsearch(list, val):\n",
    "\n",
    "    list_size = len(list) - 1\n",
    "\n",
    "    idx0 = 0\n",
    "    idxn = list_size\n",
    "# Find the middle most value\n",
    "\n",
    "    while idx0 <= idxn:\n",
    "        midval = (idx0 + idxn)// 2\n",
    "\n",
    "        if list[midval] == val:\n",
    "            return midval\n",
    "\n",
    "# Compare the value the middle most value\n",
    "        if val > list[midval]:\n",
    "            idx0 = midval + 1\n",
    "        else:\n",
    "            idxn = midval - 1\n",
    "\n",
    "    if idx0 > idxn:\n",
    "        return \"Not in list\"\n",
    "# Initialize the sorted list\n",
    "string_list = ['babka','baklava','cheesecake','cupcake','danish','eclair',\n",
    "         'funnelcake','kringle','lamington','profiterole','sopaipilla','strudel','tiramisu','torte','turnover']\n",
    "\n",
    "# Print the search result\n",
    "print(bsearch(string_list,'doughnut')) #should return Not in list because doughnut isn't in the list\n",
    "print(bsearch(string_list,'tiramisu')) #should return index 12"
   ]
  },
  {
   "cell_type": "markdown",
   "metadata": {},
   "source": [
    "### a)  What sequence of 'middle' values are compared to the target when performing a binary search with target doughnut?\n",
    "\n",
    "- The binary search starts from kringle which is the middle value.\n",
    "- kringle isn't the item that it is looking for so binary search eliminates the right half of the list because it is looking for doughnut.\n",
    "- Binary search then goes to cupcake because it is the middle value of the new list.\n",
    "- Cupcake isn't the value that I am looking for so binary search eliminates the values in the list that are to the left.\n",
    "\n",
    "### b)  What sequence of 'middle' values are compared to the target when performing a binary search with target tiramisu?\n",
    "\n",
    "- The binary search starts from kringle which is the middle value.\n",
    "- kringle isn't the item that I am looking for so binary search eliminates the left half of the list because I am looking for tiramisu.\n",
    "- Binary search then goes to strudel because it is the middle value of the new list.\n",
    "- Strudel isn't the value that I am looking for so binary search eliminates the values in the list that are to the left.\n",
    "- The binary search function then goes to torte which again isn't the desired value so it eliminates the value to the right and finds tiramisu."
   ]
  },
  {
   "cell_type": "markdown",
   "metadata": {},
   "source": [
    "## Bubble sort & Selection Sort\n",
    "\n",
    "### What is bubble sort\n",
    "####\n",
    "\n",
    "### What is selection sort\n",
    "### "
   ]
  },
  {
   "cell_type": "markdown",
   "metadata": {},
   "source": [
    "### For the list below, a) show the series of steps taken by the Bubble Sort algorithm while sorting this list. \n",
    "\n",
    "\n",
    "### list = [9, 20, 6, 10, 14, 8, 60, 11]\n",
    " \n",
    "- 9 and 20 stay where they are [9, 20, 6, 10, 14, 8, 60, 11]\n",
    "- 20 and 6 swap because 20 > 6 [9, 6, 20, 10, 14, 8, 60, 11]\n",
    "- 20 and 10 swap because 20 > 10 [9, 6, 10, 20, 14, 8, 60, 11]\n",
    "- 20 and 14 swap because 20 > 14 [9, 6, 10, 14, 20, 8, 60, 11]\n",
    "- 20 and 8 swap because 20 > 8 [9, 6, 10, 14, 8, 20, 60, 11]\n",
    "- 20 then stops moving because 60 > 20 [9, 6, 10, 14, 8, 20, 60, 11]\n",
    "- 60 and 11 swap because 60 > 11 [9, 6, 10, 14, 8, 20, 11, 60]\n",
    "- This is the first pass and 60 is in place"
   ]
  },
  {
   "cell_type": "code",
   "execution_count": 8,
   "metadata": {},
   "outputs": [
    {
     "name": "stdout",
     "output_type": "stream",
     "text": [
      "[6, 8, 9, 10, 11, 14, 20, 60]\n"
     ]
    }
   ],
   "source": [
    "# Bubble sort\n",
    "\n",
    "def bubblesort(list):\n",
    "\n",
    "# Swap the elements to arrange in order\n",
    "    for iter_num in range(len(list)-1,0,-1): #scan through ever-shortening list\n",
    "        for idx in range(iter_num):     #for each item in list,\n",
    "            if list[idx]>list[idx+1]:   #check it against its neighbour\n",
    "                temp = list[idx]        #and swap if item on left is bigger\n",
    "                list[idx] = list[idx+1]\n",
    "                list[idx+1] = temp\n",
    "\n",
    "    return list\n",
    "\n",
    "unsorted_list = [9, 20, 6, 10, 14, 8, 60, 11]\n",
    "\n",
    "print(bubblesort(unsorted_list))\n"
   ]
  },
  {
   "cell_type": "markdown",
   "metadata": {},
   "source": [
    "### b) show the series of steps taken by the Selection Sort algorithm while sorting this list.\n",
    "\n",
    "- [9, 20, 6, 10, 14, 8, 60, 11]\n",
    "- [9, 20, 6, 10, 14, 8, 11, 60]\n",
    "- [9, 11, 6, 10, 14, 8, 20, 60]\n",
    "- [9, 11, 6, 10, 8, 14, 20, 60]\n",
    "- [9, 8, 6, 10, 11, 14, 20, 60]\n",
    "- [6, 8, 9, 10, 11, 14, 20, 60]"
   ]
  },
  {
   "cell_type": "code",
   "execution_count": 24,
   "metadata": {},
   "outputs": [
    {
     "name": "stdout",
     "output_type": "stream",
     "text": [
      "[6, 8, 9, 10, 11, 14, 20, 60]\n"
     ]
    }
   ],
   "source": [
    "# Selection sort\n",
    "\n",
    "def selection_sort(input_list):\n",
    "\n",
    "    for idx in range(len(input_list)):\n",
    "\n",
    "        min_idx = idx\n",
    "        for j in range( idx +1, len(input_list)):\n",
    "            if input_list[min_idx] > input_list[j]:\n",
    "                min_idx = j\n",
    "# Swap the minimum value with the compared value\n",
    "\n",
    "        input_list[idx], input_list[min_idx] = input_list[min_idx], input_list[idx]\n",
    "\n",
    "    return input_list\n",
    "\n",
    "list_1 = [9, 20, 6, 10, 14, 8, 60, 11]\n",
    "\n",
    "print(selection_sort(list_1))"
   ]
  },
  {
   "cell_type": "markdown",
   "metadata": {},
   "source": [
    "### The three search algorithms have varying run times, with the unsorted sequential search being the least efficient and the binary search being the most efficient (among the three).\n",
    "\n",
    "### a) Modify the code for the seq_search.py (for unsorted lists), seq_search_ordered.py and binary_search.py to count the number of elements checked during the search. "
   ]
  },
  {
   "cell_type": "code",
   "execution_count": 30,
   "metadata": {},
   "outputs": [
    {
     "name": "stdout",
     "output_type": "stream",
     "text": [
      "(True, 4)\n",
      "(False, 7)\n"
     ]
    }
   ],
   "source": [
    "#sequential search\n",
    "\n",
    "def linear_search(values, search_for):\n",
    "    search_at = 0\n",
    "    search_res = False\n",
    "    count_linear = 0\n",
    "\n",
    "# Match the value with each data element\n",
    "    while search_at < len(values) and search_res is False:\n",
    "        if values[search_at] == search_for:\n",
    "            search_res = True \n",
    "            count_linear += 1\n",
    "        else:\n",
    "            search_at = search_at + 1\n",
    "            count_linear += 1\n",
    "\n",
    "    return search_res, count_linear\n",
    "\n",
    "list_2 = [64, 34, 25, 12, 22, 11, 90]\n",
    "print(linear_search(list_2, 12)) #should return True\n",
    "print(linear_search(list_2, 91)) #should return False"
   ]
  },
  {
   "cell_type": "code",
   "execution_count": 31,
   "metadata": {},
   "outputs": [
    {
     "name": "stdout",
     "output_type": "stream",
     "text": [
      "(False, 4)\n",
      "(True, 5)\n",
      "(True, 4)\n"
     ]
    }
   ],
   "source": [
    "# Sequential search ordered\n",
    "\n",
    "def orderedSequentialSearch(alist, item):\n",
    "    pos = 0\n",
    "    found = False\n",
    "    stop = False\n",
    "    count_oss = 0\n",
    "\n",
    "    while pos < len(alist) and not found and not stop:\n",
    "        if alist[pos] == item:\n",
    "            found = True\n",
    "            count_oss += 1\n",
    "        else:\n",
    "            if alist[pos] > item:\n",
    "                stop = True\n",
    "                count_oss += 1\n",
    "            else:\n",
    "                pos = pos+1\n",
    "                count_oss += 1\n",
    "\n",
    "    return found, count_oss\n",
    "\n",
    "testlist = [0, 1, 2, 8, 13, 17, 19, 32, 42,]\n",
    "print(orderedSequentialSearch(testlist, 3)) #return False\n",
    "print(orderedSequentialSearch(testlist, 13)) #return True\n",
    "print(orderedSequentialSearch(testlist, 8)) #return True"
   ]
  },
  {
   "cell_type": "code",
   "execution_count": 34,
   "metadata": {},
   "outputs": [
    {
     "name": "stdout",
     "output_type": "stream",
     "text": [
      "('Not in list', 9)\n",
      "(12, 8)\n"
     ]
    }
   ],
   "source": [
    "# Binary search\n",
    "import timeit\n",
    "\n",
    "def bsearch(list, val):\n",
    "\n",
    "    list_size = len(list) - 1\n",
    "\n",
    "    idx0 = 0\n",
    "    idxn = list_size\n",
    "    count_bsearch = 0\n",
    "# Find the middle most value\n",
    "\n",
    "    while idx0 <= idxn:\n",
    "        midval = (idx0 + idxn)// 2\n",
    "        count_bsearch += 1\n",
    "\n",
    "        if list[midval] == val:\n",
    "            count_bsearch += 1\n",
    "            return midval, count_bsearch\n",
    "\n",
    "# Compare the value the middle most value\n",
    "        if val > list[midval]:\n",
    "            idx0 = midval + 1\n",
    "            count_bsearch += 1\n",
    "        else:\n",
    "            idxn = midval - 1\n",
    "            count_bsearch += 1\n",
    "\n",
    "    if idx0 > idxn:\n",
    "        count_bsearch += 1\n",
    "        return \"Not in list\", count_bsearch\n",
    "# Initialize the sorted list\n",
    "string_list = ['babka','baklava','cheesecake','cupcake','danish','eclair',\n",
    "         'funnelcake','kringle','lamington','profiterole','sopaipilla','strudel','tiramisu','torte','turnover']\n",
    "\n",
    "# Print the search result\n",
    "print(bsearch(string_list,'doughnut')) #should return Not in list because doughnut isn't in the list\n",
    "print(bsearch(string_list,'tiramisu')) #should return index 12"
   ]
  },
  {
   "cell_type": "markdown",
   "metadata": {},
   "source": [
    "### b) Using your instrumented code for the three search algorithms, perform the following searches, and report the number of elements checked by each algorithm for each search (i.e. you will report nine results in total - for each of the 3 searches below, you will report the results from the 3 different search algorithms).\n",
    "\n",
    "### i. Search for the value 9 in the following array: A = [6, 19, -3, 5, 12, 7, 21, -8, 25, 10, 0, 28, -6, 1, 33, 18, 9, 2, -13, 43]\n",
    "\n",
    "### ii.  Search for the value 11 in the following array: A = [6, 19, -3, 5, 12, 7, 21, -8, 25, 10, 0, 28, -6, 1, 33, 18, 9, 2, -13, 43]\n",
    "\n",
    "### iii. Search for the value 11 in the following array: A = [6, 19, -3, 5, 12, 7, 21, -8, 25, 10, 0, 28, -6, 1, 33, 18, 9, 2, -13, 43, -15, 4, 22, 38, -5, 13, 23, -11, 29, -20, 41, 31, -23, 35, 40, 14, 8, -18, 16, 36]"
   ]
  },
  {
   "cell_type": "markdown",
   "metadata": {},
   "source": [
    "## sequential search"
   ]
  },
  {
   "cell_type": "code",
   "execution_count": 35,
   "metadata": {},
   "outputs": [
    {
     "name": "stdout",
     "output_type": "stream",
     "text": [
      "(True, 17)\n"
     ]
    }
   ],
   "source": [
    "#sequential search\n",
    "\n",
    "def linear_search(values, search_for):\n",
    "    search_at = 0\n",
    "    search_res = False\n",
    "    count_linear = 0\n",
    "\n",
    "# Match the value with each data element\n",
    "    while search_at < len(values) and search_res is False:\n",
    "        if values[search_at] == search_for:\n",
    "            search_res = True \n",
    "            count_linear += 1\n",
    "        else:\n",
    "            search_at = search_at + 1\n",
    "            count_linear += 1\n",
    "\n",
    "    return search_res, count_linear\n",
    "\n",
    "list_A1 = [6, 19, -3, 5, 12, 7, 21, -8, 25, 10, 0, 28, -6, 1, 33, 18, 9, 2, -13, 43]\n",
    "print(linear_search(list_A1, 9)) #should return True\n",
    "\n"
   ]
  },
  {
   "cell_type": "code",
   "execution_count": 36,
   "metadata": {},
   "outputs": [
    {
     "name": "stdout",
     "output_type": "stream",
     "text": [
      "(False, 20)\n"
     ]
    }
   ],
   "source": [
    "#sequential search\n",
    "\n",
    "def linear_search(values, search_for):\n",
    "    search_at = 0\n",
    "    search_res = False\n",
    "    count_linear = 0\n",
    "\n",
    "# Match the value with each data element\n",
    "    while search_at < len(values) and search_res is False:\n",
    "        if values[search_at] == search_for:\n",
    "            search_res = True \n",
    "            count_linear += 1\n",
    "        else:\n",
    "            search_at = search_at + 1\n",
    "            count_linear += 1\n",
    "\n",
    "    return search_res, count_linear\n",
    "\n",
    "list_A2 = [6, 19, -3, 5, 12, 7, 21, -8, 25, 10, 0, 28, -6, 1, 33, 18, 9, 2, -13, 43]\n",
    "print(linear_search(list_A2, 11)) #should return False"
   ]
  },
  {
   "cell_type": "code",
   "execution_count": 37,
   "metadata": {},
   "outputs": [
    {
     "name": "stdout",
     "output_type": "stream",
     "text": [
      "(False, 40)\n"
     ]
    }
   ],
   "source": [
    "#sequential search\n",
    "\n",
    "def linear_search(values, search_for):\n",
    "    search_at = 0\n",
    "    search_res = False\n",
    "    count_linear = 0\n",
    "\n",
    "# Match the value with each data element\n",
    "    while search_at < len(values) and search_res is False:\n",
    "        if values[search_at] == search_for:\n",
    "            search_res = True \n",
    "            count_linear += 1\n",
    "        else:\n",
    "            search_at = search_at + 1\n",
    "            count_linear += 1\n",
    "\n",
    "    return search_res, count_linear\n",
    "\n",
    "list_A3 = [6, 19, -3, 5, 12, 7, 21, -8, 25, 10, 0, 28, -6, 1, 33, 18, 9, 2, -13, 43, -15, 4, 22, 38, -5, 13, 23, -11, 29, -20, 41, 31, -23, 35, 40, 14, 8, -18, 16, 36]\n",
    "print(linear_search(list_A3, 11)) #should return False"
   ]
  },
  {
   "cell_type": "markdown",
   "metadata": {},
   "source": [
    "## Sequential search ordered\n",
    "\n",
    "### I did not show three tests for sequential search ordered because the list needs to be ordered to provide different results."
   ]
  },
  {
   "cell_type": "code",
   "execution_count": 39,
   "metadata": {},
   "outputs": [
    {
     "name": "stdout",
     "output_type": "stream",
     "text": [
      "(False, 2)\n"
     ]
    }
   ],
   "source": [
    "# Sequential search ordered\n",
    "\n",
    "def orderedSequentialSearch(alist, item):\n",
    "    pos = 0\n",
    "    found = False\n",
    "    stop = False\n",
    "    count_oss = 0\n",
    "\n",
    "    while pos < len(alist) and not found and not stop:\n",
    "        if alist[pos] == item:\n",
    "            found = True\n",
    "            count_oss += 1\n",
    "        else:\n",
    "            if alist[pos] > item:\n",
    "                stop = True\n",
    "                count_oss += 1\n",
    "            else:\n",
    "                pos = pos+1\n",
    "                count_oss += 1\n",
    "\n",
    "    return found, count_oss\n",
    "\n",
    "testlist_A1 = [6, 19, -3, 5, 12, 7, 21, -8, 25, 10, 0, 28, -6, 1, 33, 18, 9, 2, -13, 43]\n",
    "print(orderedSequentialSearch(testlist_A1, 9)) #return False"
   ]
  },
  {
   "cell_type": "code",
   "execution_count": 40,
   "metadata": {},
   "outputs": [
    {
     "name": "stdout",
     "output_type": "stream",
     "text": [
      "(False, 2)\n"
     ]
    }
   ],
   "source": [
    "# Sequential search ordered\n",
    "\n",
    "def orderedSequentialSearch(alist, item):\n",
    "    pos = 0\n",
    "    found = False\n",
    "    stop = False\n",
    "    count_oss = 0\n",
    "\n",
    "    while pos < len(alist) and not found and not stop:\n",
    "        if alist[pos] == item:\n",
    "            found = True\n",
    "            count_oss += 1\n",
    "        else:\n",
    "            if alist[pos] > item:\n",
    "                stop = True\n",
    "                count_oss += 1\n",
    "            else:\n",
    "                pos = pos+1\n",
    "                count_oss += 1\n",
    "\n",
    "    return found, count_oss\n",
    "\n",
    "testlist_A2 = [6, 19, -3, 5, 12, 7, 21, -8, 25, 10, 0, 28, -6, 1, 33, 18, 9, 2, -13, 43]\n",
    "print(orderedSequentialSearch(testlist_A1, 11)) #return False"
   ]
  },
  {
   "cell_type": "markdown",
   "metadata": {},
   "source": [
    "## Binary Search\n",
    "# FIX THIS"
   ]
  },
  {
   "cell_type": "code",
   "execution_count": 41,
   "metadata": {},
   "outputs": [
    {
     "name": "stdout",
     "output_type": "stream",
     "text": [
      "('Not in list', 9)\n",
      "('Not in list', 9)\n"
     ]
    }
   ],
   "source": [
    "# Binary search\n",
    "import timeit\n",
    "\n",
    "def bsearch(list, val):\n",
    "\n",
    "    list_size = len(list) - 1\n",
    "\n",
    "    idx0 = 0\n",
    "    idxn = list_size\n",
    "    count_bsearch = 0\n",
    "# Find the middle most value\n",
    "\n",
    "    while idx0 <= idxn:\n",
    "        midval = (idx0 + idxn)// 2\n",
    "        count_bsearch += 1\n",
    "\n",
    "        if list[midval] == val:\n",
    "            count_bsearch += 1\n",
    "            return midval, count_bsearch\n",
    "\n",
    "# Compare the value the middle most value\n",
    "        if val > list[midval]:\n",
    "            idx0 = midval + 1\n",
    "            count_bsearch += 1\n",
    "        else:\n",
    "            idxn = midval - 1\n",
    "            count_bsearch += 1\n",
    "\n",
    "    if idx0 > idxn:\n",
    "        count_bsearch += 1\n",
    "        return \"Not in list\", count_bsearch\n",
    "# Initialize the sorted list\n",
    "list_B1 = [6, 19, -3, 5, 12, 7, 21, -8, 25, 10, 0, 28, -6, 1, 33, 18, 9, 2, -13, 43]\n",
    "\n",
    "# Print the search result\n",
    "print(bsearch(list_B1, 9)) #should return Not in list because doughnut isn't in the list\n",
    "print(bsearch(list_B1,11)) #should return index 12"
   ]
  },
  {
   "cell_type": "markdown",
   "metadata": {},
   "source": [
    "### Using a random number generator, create a list of 50 integers and a list of 1000 integers. Perform a benchmark analysis using merge sort, quick sort, bubble sort and selection sort (algorithm are given) on each of the lists. For each list, what is the difference in execution speed between the different sorting techniques?"
   ]
  },
  {
   "cell_type": "code",
   "execution_count": null,
   "metadata": {},
   "outputs": [],
   "source": []
  }
 ],
 "metadata": {
  "kernelspec": {
   "display_name": "Python 3",
   "language": "python",
   "name": "python3"
  },
  "language_info": {
   "codemirror_mode": {
    "name": "ipython",
    "version": 3
   },
   "file_extension": ".py",
   "mimetype": "text/x-python",
   "name": "python",
   "nbconvert_exporter": "python",
   "pygments_lexer": "ipython3",
   "version": "3.7.3"
  }
 },
 "nbformat": 4,
 "nbformat_minor": 2
}
